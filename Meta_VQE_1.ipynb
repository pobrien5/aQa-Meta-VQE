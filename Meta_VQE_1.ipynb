{
  "nbformat": 4,
  "nbformat_minor": 0,
  "metadata": {
    "colab": {
      "provenance": []
    },
    "kernelspec": {
      "name": "python3",
      "display_name": "Python 3"
    },
    "language_info": {
      "name": "python"
    }
  },
  "cells": [
    {
      "cell_type": "code",
      "execution_count": null,
      "metadata": {
        "id": "Ovn5MjayJtvV"
      },
      "outputs": [],
      "source": [
        "# Install cirq and openfermion for use in google Colab\n",
        "!pip install --quiet cirq;\n",
        "!pip install --quiet openfermion;\n",
        "import cirq\n",
        "import openfermion\n",
        "import matplotlib.pyplot as plt\n",
        "import sympy\n",
        "import numpy as np"
      ]
    },
    {
      "cell_type": "markdown",
      "source": [
        "###**Hamiltonian: XXZ in external field** \n",
        "The spin Hamiltonian used is the 1D antiferromagnetic XXZ chain with anisotropy parameter Δ and external field strength λ with periodic boundary conditions.\n",
        "\n",
        "$$H(Δ, λ) = Σ_{i=1}^n σ^x_iσ^x_{i+1} + σ^y_iσ^y_{i+1} + Δσ^z_iσ^z_{i+1} + λΣ_{i=1}^n σ_i^z$$"
      ],
      "metadata": {
        "id": "uB0i2HhwJ66F"
      }
    },
    {
      "cell_type": "code",
      "source": [
        "def XXZ_Ham(num_qubits, lam, delta):\n",
        "  Ham = 0\n",
        "  n = len(num_qubits)\n",
        "  for i in range(n):\n",
        "    Ham += cirq.X(num_qubits[i])*cirq.X(num_qubits[(i+1)%n])\n",
        "    Ham += cirq.Y(num_qubits[i])*cirq.Y(num_qubits[(i+1)%n])\n",
        "    Ham += delta*cirq.Z(num_qubits[i])*cirq.Z(num_qubits[(i+1)%n]) #with %n for periodic BCs \n",
        "    Ham += lam * cirq.Z(num_qubits[i])\n",
        "  return(Ham)"
      ],
      "metadata": {
        "id": "_1GUoWdbLPng"
      },
      "execution_count": null,
      "outputs": []
    },
    {
      "cell_type": "code",
      "source": [
        "def exact(num_qubits, lam, delta):\n",
        "  ham_uni = XXZ_Ham(num_qubits, lam, delta).matrix(num_qubits)\n",
        "  energy = np.linalg.eigvals(ham_uni)\n",
        "  return(min(energy))"
      ],
      "metadata": {
        "id": "vgeOm9caMcyn"
      },
      "execution_count": null,
      "outputs": []
    },
    {
      "cell_type": "code",
      "source": [
        "line_qubits = cirq.LineQubit.range(3)\n",
        "\n",
        "print(\"The lowest eigenvalue =\", exact(line_qubits,2,2))\n",
        "print(\"The ground state energy =\", exact(line_qubits,2,2).real)"
      ],
      "metadata": {
        "colab": {
          "base_uri": "https://localhost:8080/"
        },
        "id": "gDt8a_IYO_j_",
        "outputId": "e7e0ca55-85f6-4f70-aba8-4eade5e4044e"
      },
      "execution_count": null,
      "outputs": [
        {
          "output_type": "stream",
          "name": "stdout",
          "text": [
            "The lowest eigenvalue = (-6+0j)\n",
            "The ground state energy = -6.0\n"
          ]
        }
      ]
    },
    {
      "cell_type": "markdown",
      "source": [
        "Generate the gates for the processing step given a vector of parameters $\\vec{θ}$\n",
        "\n"
      ],
      "metadata": {
        "id": "7qqKSEv5QUFo"
      }
    },
    {
      "cell_type": "code",
      "source": [
        "def rot_gate(params, qubit):\n",
        "  yield cirq.rz(2*params[0]).on(qubit)\n",
        "  yield cirq.ry(2*params[1]).on(qubit)\n",
        "\n",
        "def processing_layer(params, qubits, length):\n",
        "  n = int(len(qubits))\n",
        "  for l in range(length):\n",
        "    for i in range(n):\n",
        "      yield rot_gate(params[l][i], qubits[i])\n",
        "    for i in range(int(n/2)): #Append alternating CNOTs\n",
        "      yield cirq.CNOT(qubits[(2*i+(l%2))%n], qubits[(2*i+1+(l%2))%n])"
      ],
      "metadata": {
        "id": "nSUwtwWqQgId"
      },
      "execution_count": null,
      "outputs": []
    },
    {
      "cell_type": "code",
      "source": [
        "line_qubits = cirq.LineQubit.range(4)\n",
        "l = len(line_qubits)\n",
        "length = 3\n",
        "\n",
        "pro_params = np.full((length,l,2),0.5) #with 2*L params per layer, all 0.5 for testing\n",
        "\n",
        "\n",
        "print(cirq.Circuit(processing_layer(pro_params, line_qubits, length)))"
      ],
      "metadata": {
        "colab": {
          "base_uri": "https://localhost:8080/"
        },
        "id": "9DrsvwuwRu2v",
        "outputId": "59ce96b7-43f7-438f-e122-680741a601e4"
      },
      "execution_count": null,
      "outputs": [
        {
          "output_type": "stream",
          "name": "stdout",
          "text": [
            "                                                              ┌──┐\n",
            "0: ───Rz(0.318π)───Ry(0.318π)───@───Rz(0.318π)───Ry(0.318π)─────X────Rz(0.318π)───Ry(0.318π)───@───\n",
            "                                │                               │                              │\n",
            "1: ───Rz(0.318π)───Ry(0.318π)───X───Rz(0.318π)───Ry(0.318π)────@┼────Rz(0.318π)───Ry(0.318π)───X───\n",
            "                                                               ││\n",
            "2: ───Rz(0.318π)───Ry(0.318π)───@───Rz(0.318π)───Ry(0.318π)────X┼────Rz(0.318π)───Ry(0.318π)───@───\n",
            "                                │                               │                              │\n",
            "3: ───Rz(0.318π)───Ry(0.318π)───X───Rz(0.318π)───Ry(0.318π)─────@────Rz(0.318π)───Ry(0.318π)───X───\n",
            "                                                              └──┘\n"
          ]
        }
      ]
    },
    {
      "cell_type": "markdown",
      "source": [
        "Generate the gates for the encoding step given $Δ$, a vector of parameters $\\vec{ϕ}$ and a function $f$\n",
        "\n",
        "(Reusing the generator from the processing step)"
      ],
      "metadata": {
        "id": "WMXmQQrYEvAZ"
      }
    },
    {
      "cell_type": "code",
      "source": [
        "def rot_gate(params, qubit, delta):\n",
        "  if delta == 0:\n",
        "    yield cirq.rz(2*params[0]).on(qubit)\n",
        "    yield cirq.ry(2*params[1]).on(qubit)\n",
        "  else:\n",
        "    yield cirq.rz(2*params[0]).on(qubit)\n",
        "    yield cirq.ry(2*params[1]).on(qubit)\n",
        "    yield cirq.rz(2*(params[0]+delta*params[2])).on(qubit)\n",
        "    yield cirq.ry(2*(params[1]+delta*params[3])).on(qubit)\n",
        "\n",
        "def processing_layer(params, qubits, length, delta):\n",
        "  n = int(len(qubits))\n",
        "  for l in range(length):\n",
        "    for i in range(n):\n",
        "      yield rot_gate(params[l][i], qubits[i], delta)\n",
        "    for i in range(int(n/2)): #Append alternating CNOTs\n",
        "      yield cirq.CNOT(qubits[(2*i+(l%2))%n], qubits[(2*i+1+(l%2))%n])"
      ],
      "metadata": {
        "id": "gNQA189YQ6We"
      },
      "execution_count": null,
      "outputs": []
    },
    {
      "cell_type": "code",
      "source": [
        "line_qubits = cirq.LineQubit.range(4)\n",
        "l = len(line_qubits)\n",
        "length = 3\n",
        "\n",
        "pro_params = np.full((length,l,4),0.5) #with 4*L params per layer, all 0.5 for testing\n",
        "\n",
        "\n",
        "print(cirq.Circuit(processing_layer(pro_params, line_qubits, length, delta=0)))"
      ],
      "metadata": {
        "colab": {
          "base_uri": "https://localhost:8080/"
        },
        "id": "9DPYgVZsoaDj",
        "outputId": "0728dd33-a6f3-49c3-d782-b3d084463f11"
      },
      "execution_count": null,
      "outputs": [
        {
          "output_type": "stream",
          "name": "stdout",
          "text": [
            "                                                              ┌──┐\n",
            "0: ───Rz(0.318π)───Ry(0.318π)───@───Rz(0.318π)───Ry(0.318π)─────X────Rz(0.318π)───Ry(0.318π)───@───\n",
            "                                │                               │                              │\n",
            "1: ───Rz(0.318π)───Ry(0.318π)───X───Rz(0.318π)───Ry(0.318π)────@┼────Rz(0.318π)───Ry(0.318π)───X───\n",
            "                                                               ││\n",
            "2: ───Rz(0.318π)───Ry(0.318π)───@───Rz(0.318π)───Ry(0.318π)────X┼────Rz(0.318π)───Ry(0.318π)───@───\n",
            "                                │                               │                              │\n",
            "3: ───Rz(0.318π)───Ry(0.318π)───X───Rz(0.318π)───Ry(0.318π)─────@────Rz(0.318π)───Ry(0.318π)───X───\n",
            "                                                              └──┘\n"
          ]
        }
      ]
    },
    {
      "cell_type": "markdown",
      "source": [
        "Combine these to write a function that returns the expectation value of\n",
        "the Hamiltonian on the ansatz state."
      ],
      "metadata": {
        "id": "NQOaY5QIZixW"
      }
    },
    {
      "cell_type": "code",
      "source": [
        "def cost_fun(final_state, num_qubits, lam, delta):\n",
        "  return openfermion.expectation(XXZ_Ham(num_qubits, lam, delta).matrix(num_qubits)[0], final_state)"
      ],
      "metadata": {
        "id": "l9_9MmGXYo73"
      },
      "execution_count": null,
      "outputs": []
    },
    {
      "cell_type": "code",
      "source": [
        "simulator = cirq.Simulator()\n",
        "\n",
        "circuit = cirq.Circuit(cirq.identity_each(*line_qubits))\n",
        "\n",
        "final_state = simulator.simulate(circuit, initial_state=0).final_state_vector\n",
        "\n",
        "print(\"The energy of the\", cirq.dirac_notation(final_state), \"state is\", cost_fun(final_state, line_qubits, 1, 1))"
      ],
      "metadata": {
        "colab": {
          "base_uri": "https://localhost:8080/"
        },
        "id": "MeL5cOXxaop4",
        "outputId": "05e4cb01-d4d5-46da-cdaa-968ccef3df05"
      },
      "execution_count": null,
      "outputs": [
        {
          "output_type": "stream",
          "name": "stdout",
          "text": [
            "The energy of the |0000⟩ state is (8+0j)\n"
          ]
        }
      ]
    },
    {
      "cell_type": "code",
      "source": [
        "def objective(num_qubits, lam, delta):\n",
        "  circuit = "
      ],
      "metadata": {
        "colab": {
          "base_uri": "https://localhost:8080/",
          "height": 217
        },
        "id": "m7ngOibSdTxn",
        "outputId": "ebf8514f-537b-4028-c9d0-c4b18a9a247a"
      },
      "execution_count": null,
      "outputs": [
        {
          "output_type": "error",
          "ename": "AttributeError",
          "evalue": "ignored",
          "traceback": [
            "\u001b[0;31m---------------------------------------------------------------------------\u001b[0m",
            "\u001b[0;31mAttributeError\u001b[0m                            Traceback (most recent call last)",
            "\u001b[0;32m<ipython-input-76-55e794845a0a>\u001b[0m in \u001b[0;36m<module>\u001b[0;34m\u001b[0m\n\u001b[1;32m      3\u001b[0m \u001b[0;31m#print(ham_eigs)\u001b[0m\u001b[0;34m\u001b[0m\u001b[0;34m\u001b[0m\u001b[0m\n\u001b[1;32m      4\u001b[0m \u001b[0mmin_value\u001b[0m \u001b[0;34m=\u001b[0m \u001b[0mmin\u001b[0m\u001b[0;34m(\u001b[0m\u001b[0mham_eigs\u001b[0m\u001b[0;34m[\u001b[0m\u001b[0;36m0\u001b[0m\u001b[0;34m]\u001b[0m\u001b[0;34m)\u001b[0m\u001b[0;34m\u001b[0m\u001b[0;34m\u001b[0m\u001b[0m\n\u001b[0;32m----> 5\u001b[0;31m \u001b[0mmin_index\u001b[0m \u001b[0;34m=\u001b[0m \u001b[0mham_eigs\u001b[0m\u001b[0;34m[\u001b[0m\u001b[0;36m0\u001b[0m\u001b[0;34m]\u001b[0m\u001b[0;34m.\u001b[0m\u001b[0mindex\u001b[0m\u001b[0;34m(\u001b[0m\u001b[0mmin_value\u001b[0m\u001b[0;34m)\u001b[0m\u001b[0;34m\u001b[0m\u001b[0;34m\u001b[0m\u001b[0m\n\u001b[0m\u001b[1;32m      6\u001b[0m \u001b[0mprint\u001b[0m\u001b[0;34m(\u001b[0m\u001b[0mmin_index\u001b[0m\u001b[0;34m)\u001b[0m\u001b[0;34m\u001b[0m\u001b[0;34m\u001b[0m\u001b[0m\n",
            "\u001b[0;31mAttributeError\u001b[0m: 'numpy.ndarray' object has no attribute 'index'"
          ]
        }
      ]
    },
    {
      "cell_type": "code",
      "source": [],
      "metadata": {
        "id": "uA1QCNFPgNCd"
      },
      "execution_count": null,
      "outputs": []
    }
  ]
}